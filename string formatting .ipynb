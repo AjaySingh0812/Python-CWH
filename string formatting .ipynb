{
 "cells": [
  {
   "cell_type": "code",
   "execution_count": 8,
   "metadata": {},
   "outputs": [
    {
     "name": "stdout",
     "output_type": "stream",
     "text": [
      " for only 78.00 dollars!\n"
     ]
    }
   ],
   "source": [
    "txt = \" for only {price:.2f} dollars!\"\n",
    "print (txt . format(price =78))"
   ]
  },
  {
   "cell_type": "markdown",
   "metadata": {},
   "source": []
  },
  {
   "cell_type": "markdown",
   "metadata": {},
   "source": [
    "Placeholders "
   ]
  },
  {
   "cell_type": "markdown",
   "metadata": {},
   "source": [
    "name indexes {price}, number indexes {2}, empty indexes {}"
   ]
  },
  {
   "cell_type": "code",
   "execution_count": 12,
   "metadata": {},
   "outputs": [],
   "source": [
    "# example of placeholders\n",
    "txt1 = \"My name is {fname}, i am {age} \".format(fname = \"ajay \",  age =38)\n",
    "txt2 = \" my name is {0}, i am {1}\".format(\"ajay\", 36)\n",
    "txt2 = \"my name is {}, i am {} \".format(\"ajay\" ,21 )"
   ]
  },
  {
   "cell_type": "code",
   "execution_count": 17,
   "metadata": {},
   "outputs": [
    {
     "name": "stdout",
     "output_type": "stream",
     "text": [
      "we have 49    chickens \n"
     ]
    }
   ],
   "source": [
    "#use \"<\"  to left - align the value \n",
    "txt= \"we have {:<5} chickens \"\n",
    "print (txt.format(49))"
   ]
  },
  {
   "cell_type": "code",
   "execution_count": null,
   "metadata": {},
   "outputs": [],
   "source": []
  }
 ],
 "metadata": {
  "kernelspec": {
   "display_name": "base",
   "language": "python",
   "name": "python3"
  },
  "language_info": {
   "codemirror_mode": {
    "name": "ipython",
    "version": 3
   },
   "file_extension": ".py",
   "mimetype": "text/x-python",
   "name": "python",
   "nbconvert_exporter": "python",
   "pygments_lexer": "ipython3",
   "version": "3.11.4"
  },
  "orig_nbformat": 4
 },
 "nbformat": 4,
 "nbformat_minor": 2
}
